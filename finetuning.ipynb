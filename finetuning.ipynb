{
  "nbformat": 4,
  "nbformat_minor": 0,
  "metadata": {
    "colab": {
      "provenance": []
    },
    "kernelspec": {
      "name": "python3",
      "display_name": "Python 3"
    },
    "language_info": {
      "name": "python"
    }
  },
  "cells": [
    {
      "cell_type": "code",
      "source": [
        "from google.colab import drive\n",
        "\n",
        "drive.mount('/content/drive')\n"
      ],
      "metadata": {
        "colab": {
          "base_uri": "https://localhost:8080/"
        },
        "id": "zYIh4yE6JtDD",
        "outputId": "e0bc1f8b-96f4-4534-f761-63eab712b4a9"
      },
      "execution_count": 9,
      "outputs": [
        {
          "output_type": "stream",
          "name": "stdout",
          "text": [
            "Drive already mounted at /content/drive; to attempt to forcibly remount, call drive.mount(\"/content/drive\", force_remount=True).\n"
          ]
        }
      ]
    },
    {
      "cell_type": "code",
      "execution_count": 10,
      "metadata": {
        "colab": {
          "base_uri": "https://localhost:8080/"
        },
        "id": "WnzU3fO_IL4U",
        "outputId": "c1e216dc-ede3-46af-d36a-98eef29a4efb"
      },
      "outputs": [
        {
          "output_type": "stream",
          "name": "stdout",
          "text": [
            "Requirement already satisfied: mistralai in /usr/local/lib/python3.10/dist-packages (1.2.3)\n",
            "Requirement already satisfied: pyarrow in /usr/local/lib/python3.10/dist-packages (17.0.0)\n",
            "Requirement already satisfied: rich in /usr/local/lib/python3.10/dist-packages (13.9.4)\n",
            "Requirement already satisfied: gradio in /usr/local/lib/python3.10/dist-packages (5.7.1)\n",
            "Requirement already satisfied: eval-type-backport<0.3.0,>=0.2.0 in /usr/local/lib/python3.10/dist-packages (from mistralai) (0.2.0)\n",
            "Requirement already satisfied: httpx<0.28.0,>=0.27.0 in /usr/local/lib/python3.10/dist-packages (from mistralai) (0.27.2)\n",
            "Requirement already satisfied: jsonpath-python<2.0.0,>=1.0.6 in /usr/local/lib/python3.10/dist-packages (from mistralai) (1.0.6)\n",
            "Requirement already satisfied: pydantic<3.0.0,>=2.9.0 in /usr/local/lib/python3.10/dist-packages (from mistralai) (2.9.2)\n",
            "Requirement already satisfied: python-dateutil==2.8.2 in /usr/local/lib/python3.10/dist-packages (from mistralai) (2.8.2)\n",
            "Requirement already satisfied: typing-inspect<0.10.0,>=0.9.0 in /usr/local/lib/python3.10/dist-packages (from mistralai) (0.9.0)\n",
            "Requirement already satisfied: six>=1.5 in /usr/local/lib/python3.10/dist-packages (from python-dateutil==2.8.2->mistralai) (1.16.0)\n",
            "Requirement already satisfied: numpy>=1.16.6 in /usr/local/lib/python3.10/dist-packages (from pyarrow) (1.26.4)\n",
            "Requirement already satisfied: markdown-it-py>=2.2.0 in /usr/local/lib/python3.10/dist-packages (from rich) (3.0.0)\n",
            "Requirement already satisfied: pygments<3.0.0,>=2.13.0 in /usr/local/lib/python3.10/dist-packages (from rich) (2.18.0)\n",
            "Requirement already satisfied: typing-extensions<5.0,>=4.0.0 in /usr/local/lib/python3.10/dist-packages (from rich) (4.12.2)\n",
            "Requirement already satisfied: aiofiles<24.0,>=22.0 in /usr/local/lib/python3.10/dist-packages (from gradio) (23.2.1)\n",
            "Requirement already satisfied: anyio<5.0,>=3.0 in /usr/local/lib/python3.10/dist-packages (from gradio) (3.7.1)\n",
            "Requirement already satisfied: fastapi<1.0,>=0.115.2 in /usr/local/lib/python3.10/dist-packages (from gradio) (0.115.5)\n",
            "Requirement already satisfied: ffmpy in /usr/local/lib/python3.10/dist-packages (from gradio) (0.4.0)\n",
            "Requirement already satisfied: gradio-client==1.5.0 in /usr/local/lib/python3.10/dist-packages (from gradio) (1.5.0)\n",
            "Requirement already satisfied: huggingface-hub>=0.25.1 in /usr/local/lib/python3.10/dist-packages (from gradio) (0.26.2)\n",
            "Requirement already satisfied: jinja2<4.0 in /usr/local/lib/python3.10/dist-packages (from gradio) (3.1.4)\n",
            "Requirement already satisfied: markupsafe~=2.0 in /usr/local/lib/python3.10/dist-packages (from gradio) (2.1.5)\n",
            "Requirement already satisfied: orjson~=3.0 in /usr/local/lib/python3.10/dist-packages (from gradio) (3.10.11)\n",
            "Requirement already satisfied: packaging in /usr/local/lib/python3.10/dist-packages (from gradio) (24.2)\n",
            "Requirement already satisfied: pandas<3.0,>=1.0 in /usr/local/lib/python3.10/dist-packages (from gradio) (2.2.2)\n",
            "Requirement already satisfied: pillow<12.0,>=8.0 in /usr/local/lib/python3.10/dist-packages (from gradio) (11.0.0)\n",
            "Requirement already satisfied: pydub in /usr/local/lib/python3.10/dist-packages (from gradio) (0.25.1)\n",
            "Requirement already satisfied: python-multipart==0.0.12 in /usr/local/lib/python3.10/dist-packages (from gradio) (0.0.12)\n",
            "Requirement already satisfied: pyyaml<7.0,>=5.0 in /usr/local/lib/python3.10/dist-packages (from gradio) (6.0.2)\n",
            "Requirement already satisfied: ruff>=0.2.2 in /usr/local/lib/python3.10/dist-packages (from gradio) (0.8.1)\n",
            "Requirement already satisfied: safehttpx<1.0,>=0.1.1 in /usr/local/lib/python3.10/dist-packages (from gradio) (0.1.1)\n",
            "Requirement already satisfied: semantic-version~=2.0 in /usr/local/lib/python3.10/dist-packages (from gradio) (2.10.0)\n",
            "Requirement already satisfied: starlette<1.0,>=0.40.0 in /usr/local/lib/python3.10/dist-packages (from gradio) (0.41.3)\n",
            "Requirement already satisfied: tomlkit==0.12.0 in /usr/local/lib/python3.10/dist-packages (from gradio) (0.12.0)\n",
            "Requirement already satisfied: typer<1.0,>=0.12 in /usr/local/lib/python3.10/dist-packages (from gradio) (0.13.0)\n",
            "Requirement already satisfied: uvicorn>=0.14.0 in /usr/local/lib/python3.10/dist-packages (from gradio) (0.32.1)\n",
            "Requirement already satisfied: fsspec in /usr/local/lib/python3.10/dist-packages (from gradio-client==1.5.0->gradio) (2024.10.0)\n",
            "Requirement already satisfied: websockets<13.0,>=10.0 in /usr/local/lib/python3.10/dist-packages (from gradio-client==1.5.0->gradio) (12.0)\n",
            "Requirement already satisfied: idna>=2.8 in /usr/local/lib/python3.10/dist-packages (from anyio<5.0,>=3.0->gradio) (3.10)\n",
            "Requirement already satisfied: sniffio>=1.1 in /usr/local/lib/python3.10/dist-packages (from anyio<5.0,>=3.0->gradio) (1.3.1)\n",
            "Requirement already satisfied: exceptiongroup in /usr/local/lib/python3.10/dist-packages (from anyio<5.0,>=3.0->gradio) (1.2.2)\n",
            "Requirement already satisfied: certifi in /usr/local/lib/python3.10/dist-packages (from httpx<0.28.0,>=0.27.0->mistralai) (2024.8.30)\n",
            "Requirement already satisfied: httpcore==1.* in /usr/local/lib/python3.10/dist-packages (from httpx<0.28.0,>=0.27.0->mistralai) (1.0.7)\n",
            "Requirement already satisfied: h11<0.15,>=0.13 in /usr/local/lib/python3.10/dist-packages (from httpcore==1.*->httpx<0.28.0,>=0.27.0->mistralai) (0.14.0)\n",
            "Requirement already satisfied: filelock in /usr/local/lib/python3.10/dist-packages (from huggingface-hub>=0.25.1->gradio) (3.16.1)\n",
            "Requirement already satisfied: requests in /usr/local/lib/python3.10/dist-packages (from huggingface-hub>=0.25.1->gradio) (2.32.3)\n",
            "Requirement already satisfied: tqdm>=4.42.1 in /usr/local/lib/python3.10/dist-packages (from huggingface-hub>=0.25.1->gradio) (4.66.6)\n",
            "Requirement already satisfied: mdurl~=0.1 in /usr/local/lib/python3.10/dist-packages (from markdown-it-py>=2.2.0->rich) (0.1.2)\n",
            "Requirement already satisfied: pytz>=2020.1 in /usr/local/lib/python3.10/dist-packages (from pandas<3.0,>=1.0->gradio) (2024.2)\n",
            "Requirement already satisfied: tzdata>=2022.7 in /usr/local/lib/python3.10/dist-packages (from pandas<3.0,>=1.0->gradio) (2024.2)\n",
            "Requirement already satisfied: annotated-types>=0.6.0 in /usr/local/lib/python3.10/dist-packages (from pydantic<3.0.0,>=2.9.0->mistralai) (0.7.0)\n",
            "Requirement already satisfied: pydantic-core==2.23.4 in /usr/local/lib/python3.10/dist-packages (from pydantic<3.0.0,>=2.9.0->mistralai) (2.23.4)\n",
            "Requirement already satisfied: click>=8.0.0 in /usr/local/lib/python3.10/dist-packages (from typer<1.0,>=0.12->gradio) (8.1.7)\n",
            "Requirement already satisfied: shellingham>=1.3.0 in /usr/local/lib/python3.10/dist-packages (from typer<1.0,>=0.12->gradio) (1.5.4)\n",
            "Requirement already satisfied: mypy-extensions>=0.3.0 in /usr/local/lib/python3.10/dist-packages (from typing-inspect<0.10.0,>=0.9.0->mistralai) (1.0.0)\n",
            "Requirement already satisfied: charset-normalizer<4,>=2 in /usr/local/lib/python3.10/dist-packages (from requests->huggingface-hub>=0.25.1->gradio) (3.4.0)\n",
            "Requirement already satisfied: urllib3<3,>=1.21.1 in /usr/local/lib/python3.10/dist-packages (from requests->huggingface-hub>=0.25.1->gradio) (2.2.3)\n"
          ]
        }
      ],
      "source": [
        "\n",
        "pip install mistralai pyarrow rich gradio\n"
      ]
    },
    {
      "cell_type": "code",
      "source": [
        "from mistralai import Mistral\n",
        "\n",
        "\n"
      ],
      "metadata": {
        "id": "AiRynG6hLrAX"
      },
      "execution_count": null,
      "outputs": []
    },
    {
      "cell_type": "code",
      "source": [
        "pip install weave"
      ],
      "metadata": {
        "colab": {
          "base_uri": "https://localhost:8080/"
        },
        "id": "MayABOnWfdtP",
        "outputId": "707cfeec-4f8f-4480-d01f-17e2e0f9c318"
      },
      "execution_count": null,
      "outputs": [
        {
          "output_type": "stream",
          "name": "stdout",
          "text": [
            "Collecting weave\n",
            "  Downloading weave-0.51.22-py3-none-any.whl.metadata (21 kB)\n",
            "Collecting emoji>=2.12.1 (from weave)\n",
            "  Downloading emoji-2.14.0-py3-none-any.whl.metadata (5.7 kB)\n",
            "Collecting gql[aiohttp,requests] (from weave)\n",
            "  Downloading gql-3.5.0-py2.py3-none-any.whl.metadata (9.2 kB)\n",
            "Requirement already satisfied: jsonschema>=4.23.0 in /usr/local/lib/python3.10/dist-packages (from weave) (4.23.0)\n",
            "Requirement already satisfied: numpy>1.21.0 in /usr/local/lib/python3.10/dist-packages (from weave) (1.26.4)\n",
            "Requirement already satisfied: packaging>=21.0 in /usr/local/lib/python3.10/dist-packages (from weave) (24.2)\n",
            "Requirement already satisfied: pydantic<2.10.0,>=2.0.0 in /usr/local/lib/python3.10/dist-packages (from weave) (2.9.2)\n",
            "Requirement already satisfied: rich in /usr/local/lib/python3.10/dist-packages (from weave) (13.9.4)\n",
            "Requirement already satisfied: tenacity!=8.4.0,>=8.3.0 in /usr/local/lib/python3.10/dist-packages (from weave) (9.0.0)\n",
            "Collecting uuid-utils>=0.9.0 (from weave)\n",
            "  Downloading uuid_utils-0.10.0-cp39-abi3-manylinux_2_17_x86_64.manylinux2014_x86_64.whl.metadata (4.9 kB)\n",
            "Requirement already satisfied: wandb>=0.17.1 in /usr/local/lib/python3.10/dist-packages (from weave) (0.18.7)\n",
            "Requirement already satisfied: attrs>=22.2.0 in /usr/local/lib/python3.10/dist-packages (from jsonschema>=4.23.0->weave) (24.2.0)\n",
            "Requirement already satisfied: jsonschema-specifications>=2023.03.6 in /usr/local/lib/python3.10/dist-packages (from jsonschema>=4.23.0->weave) (2024.10.1)\n",
            "Requirement already satisfied: referencing>=0.28.4 in /usr/local/lib/python3.10/dist-packages (from jsonschema>=4.23.0->weave) (0.35.1)\n",
            "Requirement already satisfied: rpds-py>=0.7.1 in /usr/local/lib/python3.10/dist-packages (from jsonschema>=4.23.0->weave) (0.21.0)\n",
            "Requirement already satisfied: annotated-types>=0.6.0 in /usr/local/lib/python3.10/dist-packages (from pydantic<2.10.0,>=2.0.0->weave) (0.7.0)\n",
            "Requirement already satisfied: pydantic-core==2.23.4 in /usr/local/lib/python3.10/dist-packages (from pydantic<2.10.0,>=2.0.0->weave) (2.23.4)\n",
            "Requirement already satisfied: typing-extensions>=4.6.1 in /usr/local/lib/python3.10/dist-packages (from pydantic<2.10.0,>=2.0.0->weave) (4.12.2)\n",
            "Requirement already satisfied: click!=8.0.0,>=7.1 in /usr/local/lib/python3.10/dist-packages (from wandb>=0.17.1->weave) (8.1.7)\n",
            "Requirement already satisfied: docker-pycreds>=0.4.0 in /usr/local/lib/python3.10/dist-packages (from wandb>=0.17.1->weave) (0.4.0)\n",
            "Requirement already satisfied: gitpython!=3.1.29,>=1.0.0 in /usr/local/lib/python3.10/dist-packages (from wandb>=0.17.1->weave) (3.1.43)\n",
            "Requirement already satisfied: platformdirs in /usr/local/lib/python3.10/dist-packages (from wandb>=0.17.1->weave) (4.3.6)\n",
            "Requirement already satisfied: protobuf!=4.21.0,!=5.28.0,<6,>=3.19.0 in /usr/local/lib/python3.10/dist-packages (from wandb>=0.17.1->weave) (4.25.5)\n",
            "Requirement already satisfied: psutil>=5.0.0 in /usr/local/lib/python3.10/dist-packages (from wandb>=0.17.1->weave) (5.9.5)\n",
            "Requirement already satisfied: pyyaml in /usr/local/lib/python3.10/dist-packages (from wandb>=0.17.1->weave) (6.0.2)\n",
            "Requirement already satisfied: requests<3,>=2.0.0 in /usr/local/lib/python3.10/dist-packages (from wandb>=0.17.1->weave) (2.32.3)\n",
            "Requirement already satisfied: sentry-sdk>=2.0.0 in /usr/local/lib/python3.10/dist-packages (from wandb>=0.17.1->weave) (2.18.0)\n",
            "Requirement already satisfied: setproctitle in /usr/local/lib/python3.10/dist-packages (from wandb>=0.17.1->weave) (1.3.4)\n",
            "Requirement already satisfied: setuptools in /usr/local/lib/python3.10/dist-packages (from wandb>=0.17.1->weave) (75.1.0)\n",
            "Collecting graphql-core<3.3,>=3.2 (from gql[aiohttp,requests]->weave)\n",
            "  Downloading graphql_core-3.2.5-py3-none-any.whl.metadata (10 kB)\n",
            "Requirement already satisfied: yarl<2.0,>=1.6 in /usr/local/lib/python3.10/dist-packages (from gql[aiohttp,requests]->weave) (1.17.2)\n",
            "Collecting backoff<3.0,>=1.11.1 (from gql[aiohttp,requests]->weave)\n",
            "  Downloading backoff-2.2.1-py3-none-any.whl.metadata (14 kB)\n",
            "Requirement already satisfied: anyio<5,>=3.0 in /usr/local/lib/python3.10/dist-packages (from gql[aiohttp,requests]->weave) (3.7.1)\n",
            "Requirement already satisfied: aiohttp<4,>=3.8.0 in /usr/local/lib/python3.10/dist-packages (from gql[aiohttp,requests]->weave) (3.11.2)\n",
            "Requirement already satisfied: requests-toolbelt<2,>=1.0.0 in /usr/local/lib/python3.10/dist-packages (from gql[aiohttp,requests]->weave) (1.0.0)\n",
            "Requirement already satisfied: markdown-it-py>=2.2.0 in /usr/local/lib/python3.10/dist-packages (from rich->weave) (3.0.0)\n",
            "Requirement already satisfied: pygments<3.0.0,>=2.13.0 in /usr/local/lib/python3.10/dist-packages (from rich->weave) (2.18.0)\n",
            "Requirement already satisfied: aiohappyeyeballs>=2.3.0 in /usr/local/lib/python3.10/dist-packages (from aiohttp<4,>=3.8.0->gql[aiohttp,requests]->weave) (2.4.3)\n",
            "Requirement already satisfied: aiosignal>=1.1.2 in /usr/local/lib/python3.10/dist-packages (from aiohttp<4,>=3.8.0->gql[aiohttp,requests]->weave) (1.3.1)\n",
            "Requirement already satisfied: frozenlist>=1.1.1 in /usr/local/lib/python3.10/dist-packages (from aiohttp<4,>=3.8.0->gql[aiohttp,requests]->weave) (1.5.0)\n",
            "Requirement already satisfied: multidict<7.0,>=4.5 in /usr/local/lib/python3.10/dist-packages (from aiohttp<4,>=3.8.0->gql[aiohttp,requests]->weave) (6.1.0)\n",
            "Requirement already satisfied: propcache>=0.2.0 in /usr/local/lib/python3.10/dist-packages (from aiohttp<4,>=3.8.0->gql[aiohttp,requests]->weave) (0.2.0)\n",
            "Requirement already satisfied: async-timeout<6.0,>=4.0 in /usr/local/lib/python3.10/dist-packages (from aiohttp<4,>=3.8.0->gql[aiohttp,requests]->weave) (4.0.3)\n",
            "Requirement already satisfied: idna>=2.8 in /usr/local/lib/python3.10/dist-packages (from anyio<5,>=3.0->gql[aiohttp,requests]->weave) (3.10)\n",
            "Requirement already satisfied: sniffio>=1.1 in /usr/local/lib/python3.10/dist-packages (from anyio<5,>=3.0->gql[aiohttp,requests]->weave) (1.3.1)\n",
            "Requirement already satisfied: exceptiongroup in /usr/local/lib/python3.10/dist-packages (from anyio<5,>=3.0->gql[aiohttp,requests]->weave) (1.2.2)\n",
            "Requirement already satisfied: six>=1.4.0 in /usr/local/lib/python3.10/dist-packages (from docker-pycreds>=0.4.0->wandb>=0.17.1->weave) (1.16.0)\n",
            "Requirement already satisfied: gitdb<5,>=4.0.1 in /usr/local/lib/python3.10/dist-packages (from gitpython!=3.1.29,>=1.0.0->wandb>=0.17.1->weave) (4.0.11)\n",
            "Requirement already satisfied: mdurl~=0.1 in /usr/local/lib/python3.10/dist-packages (from markdown-it-py>=2.2.0->rich->weave) (0.1.2)\n",
            "Requirement already satisfied: charset-normalizer<4,>=2 in /usr/local/lib/python3.10/dist-packages (from requests<3,>=2.0.0->wandb>=0.17.1->weave) (3.4.0)\n",
            "Requirement already satisfied: urllib3<3,>=1.21.1 in /usr/local/lib/python3.10/dist-packages (from requests<3,>=2.0.0->wandb>=0.17.1->weave) (2.2.3)\n",
            "Requirement already satisfied: certifi>=2017.4.17 in /usr/local/lib/python3.10/dist-packages (from requests<3,>=2.0.0->wandb>=0.17.1->weave) (2024.8.30)\n",
            "Requirement already satisfied: smmap<6,>=3.0.1 in /usr/local/lib/python3.10/dist-packages (from gitdb<5,>=4.0.1->gitpython!=3.1.29,>=1.0.0->wandb>=0.17.1->weave) (5.0.1)\n",
            "Downloading weave-0.51.22-py3-none-any.whl (315 kB)\n",
            "\u001b[2K   \u001b[90m━━━━━━━━━━━━━━━━━━━━━━━━━━━━━━━━━━━━━━━━\u001b[0m \u001b[32m315.7/315.7 kB\u001b[0m \u001b[31m8.0 MB/s\u001b[0m eta \u001b[36m0:00:00\u001b[0m\n",
            "\u001b[?25hDownloading emoji-2.14.0-py3-none-any.whl (586 kB)\n",
            "\u001b[2K   \u001b[90m━━━━━━━━━━━━━━━━━━━━━━━━━━━━━━━━━━━━━━━━\u001b[0m \u001b[32m586.9/586.9 kB\u001b[0m \u001b[31m21.3 MB/s\u001b[0m eta \u001b[36m0:00:00\u001b[0m\n",
            "\u001b[?25hDownloading uuid_utils-0.10.0-cp39-abi3-manylinux_2_17_x86_64.manylinux2014_x86_64.whl (325 kB)\n",
            "\u001b[2K   \u001b[90m━━━━━━━━━━━━━━━━━━━━━━━━━━━━━━━━━━━━━━━━\u001b[0m \u001b[32m325.8/325.8 kB\u001b[0m \u001b[31m20.5 MB/s\u001b[0m eta \u001b[36m0:00:00\u001b[0m\n",
            "\u001b[?25hDownloading backoff-2.2.1-py3-none-any.whl (15 kB)\n",
            "Downloading graphql_core-3.2.5-py3-none-any.whl (203 kB)\n",
            "\u001b[2K   \u001b[90m━━━━━━━━━━━━━━━━━━━━━━━━━━━━━━━━━━━━━━━━\u001b[0m \u001b[32m203.2/203.2 kB\u001b[0m \u001b[31m12.4 MB/s\u001b[0m eta \u001b[36m0:00:00\u001b[0m\n",
            "\u001b[?25hDownloading gql-3.5.0-py2.py3-none-any.whl (74 kB)\n",
            "\u001b[2K   \u001b[90m━━━━━━━━━━━━━━━━━━━━━━━━━━━━━━━━━━━━━━━━\u001b[0m \u001b[32m74.0/74.0 kB\u001b[0m \u001b[31m5.3 MB/s\u001b[0m eta \u001b[36m0:00:00\u001b[0m\n",
            "\u001b[?25hInstalling collected packages: uuid-utils, graphql-core, emoji, backoff, gql, weave\n",
            "Successfully installed backoff-2.2.1 emoji-2.14.0 gql-3.5.0 graphql-core-3.2.5 uuid-utils-0.10.0 weave-0.51.22\n"
          ]
        }
      ]
    },
    {
      "cell_type": "code",
      "source": [
        "import weave\n",
        "weave.init(\"student_database\")"
      ],
      "metadata": {
        "colab": {
          "base_uri": "https://localhost:8080/",
          "height": 191
        },
        "id": "sJm0kYxnfYZX",
        "outputId": "b2c09326-be2a-4a8f-842c-52169b05b4f3"
      },
      "execution_count": 6,
      "outputs": [
        {
          "metadata": {
            "tags": null
          },
          "name": "stdout",
          "output_type": "stream",
          "text": [
            "Please login to Weights & Biases (https://wandb.ai/) to continue:\n"
          ]
        },
        {
          "metadata": {
            "tags": null
          },
          "name": "stderr",
          "output_type": "stream",
          "text": [
            "\u001b[34m\u001b[1mwandb\u001b[0m: Using wandb-core as the SDK backend.  Please refer to https://wandb.me/wandb-core for more information.\n"
          ]
        },
        {
          "data": {
            "application/javascript": [
              "\n",
              "        window._wandbApiKey = new Promise((resolve, reject) => {\n",
              "            function loadScript(url) {\n",
              "            return new Promise(function(resolve, reject) {\n",
              "                let newScript = document.createElement(\"script\");\n",
              "                newScript.onerror = reject;\n",
              "                newScript.onload = resolve;\n",
              "                document.body.appendChild(newScript);\n",
              "                newScript.src = url;\n",
              "            });\n",
              "            }\n",
              "            loadScript(\"https://cdn.jsdelivr.net/npm/postmate/build/postmate.min.js\").then(() => {\n",
              "            const iframe = document.createElement('iframe')\n",
              "            iframe.style.cssText = \"width:0;height:0;border:none\"\n",
              "            document.body.appendChild(iframe)\n",
              "            const handshake = new Postmate({\n",
              "                container: iframe,\n",
              "                url: 'https://wandb.ai/authorize'\n",
              "            });\n",
              "            const timeout = setTimeout(() => reject(\"Couldn't auto authenticate\"), 5000)\n",
              "            handshake.then(function(child) {\n",
              "                child.on('authorize', data => {\n",
              "                    clearTimeout(timeout)\n",
              "                    resolve(data)\n",
              "                });\n",
              "            });\n",
              "            })\n",
              "        });\n",
              "    "
            ],
            "text/plain": [
              "<IPython.core.display.Javascript object>"
            ]
          },
          "metadata": {},
          "output_type": "display_data"
        },
        {
          "metadata": {
            "tags": null
          },
          "name": "stderr",
          "output_type": "stream",
          "text": [
            "\u001b[34m\u001b[1mwandb\u001b[0m: Logging into wandb.ai. (Learn how to deploy a W&B server locally: https://wandb.me/wandb-server)\n",
            "\u001b[34m\u001b[1mwandb\u001b[0m: You can find your API key in your browser here: https://wandb.ai/authorize\n",
            "wandb: Paste an API key from your profile and hit enter, or press ctrl+c to quit:"
          ]
        },
        {
          "name": "stdout",
          "output_type": "stream",
          "text": [
            " ··········\n"
          ]
        },
        {
          "output_type": "stream",
          "name": "stderr",
          "text": [
            "\u001b[34m\u001b[1mwandb\u001b[0m: Appending key for api.wandb.ai to your netrc file: /root/.netrc\n"
          ]
        },
        {
          "output_type": "stream",
          "name": "stdout",
          "text": [
            "Logged in as Weights & Biases user: muhammednihas2218.\n",
            "View Weave data at https://wandb.ai/muhammednihas2218-brototype/student_database/weave\n"
          ]
        },
        {
          "output_type": "execute_result",
          "data": {
            "text/plain": [
              "<weave.trace.weave_client.WeaveClient at 0x7ccec4c9e6e0>"
            ]
          },
          "metadata": {},
          "execution_count": 6
        }
      ]
    },
    {
      "cell_type": "code",
      "source": [
        "import pandas as pd\n",
        "import numpy as np\n",
        "\n",
        "import json\n",
        "import time\n",
        "from rich import print\n",
        "import mistralai.client\n",
        "from mistralai.client import MistralClient\n",
        "\n",
        "from mistralai.client import MistralClient\n",
        "\n"
      ],
      "metadata": {
        "id": "wy0NwvtnSYSu"
      },
      "execution_count": 7,
      "outputs": []
    },
    {
      "cell_type": "code",
      "source": [
        "\n",
        "\n",
        "from google.colab import userdata\n",
        "MISTRAL_API_KEY=userdata.get('MISTRAL_API_KEY')\n",
        "WANDB_API_KEY=userdata.get('WANDB_API_KEY')\n",
        "\n",
        "client = Mistral(api_key=MISTRAL_API_KEY)\n"
      ],
      "metadata": {
        "id": "yVSSZiYZJzkM"
      },
      "execution_count": 11,
      "outputs": []
    },
    {
      "cell_type": "code",
      "source": [
        "df=pd.read_json('/content/drive/MyDrive/PROJECTS/student_database_chatbot/formated_dataset.json')"
      ],
      "metadata": {
        "id": "D8SgAxQ5SMIa"
      },
      "execution_count": null,
      "outputs": []
    },
    {
      "cell_type": "code",
      "source": [
        "with open('/content/drive/MyDrive/PROJECTS/student_database_chatbot/formated_dataset.json', 'r') as file:\n",
        "    raw_data = file.read()"
      ],
      "metadata": {
        "id": "xtYkVpTmZZw3"
      },
      "execution_count": null,
      "outputs": []
    },
    {
      "cell_type": "code",
      "source": [
        "try:\n",
        "    data = json.loads(raw_data)\n",
        "    print(\"Data loaded successfully!\")\n",
        "except json.JSONDecodeError as e:\n",
        "    print(\"Error loading JSON:\", e)"
      ],
      "metadata": {
        "id": "fjEQUJZQamer"
      },
      "execution_count": null,
      "outputs": []
    },
    {
      "cell_type": "code",
      "source": [
        "df = pd.DataFrame(data)\n"
      ],
      "metadata": {
        "id": "MIVMEBm_bNAE"
      },
      "execution_count": null,
      "outputs": []
    },
    {
      "cell_type": "code",
      "source": [
        "df.head()"
      ],
      "metadata": {
        "id": "90fqxF9zNLz-",
        "colab": {
          "base_uri": "https://localhost:8080/",
          "height": 206
        },
        "outputId": "265d1c81-81bb-4014-cb42-2f46b90c4b5b"
      },
      "execution_count": null,
      "outputs": [
        {
          "output_type": "execute_result",
          "data": {
            "text/plain": [
              "   conversation_id                                           messages\n",
              "0                1  [{'role': 'user', 'content': 'write quary to p...\n",
              "1                2  [{'role': 'user', 'content': 'write sudent det...\n",
              "2                3  [{'role': 'user', 'content': 'Write student de...\n",
              "3                4  [{'role': 'user', 'content': 'write student de...\n",
              "4                5  [{'role': 'user', 'content': 'show the student..."
            ],
            "text/html": [
              "\n",
              "  <div id=\"df-f27fcec4-b8de-485d-9534-51b245aae63d\" class=\"colab-df-container\">\n",
              "    <div>\n",
              "<style scoped>\n",
              "    .dataframe tbody tr th:only-of-type {\n",
              "        vertical-align: middle;\n",
              "    }\n",
              "\n",
              "    .dataframe tbody tr th {\n",
              "        vertical-align: top;\n",
              "    }\n",
              "\n",
              "    .dataframe thead th {\n",
              "        text-align: right;\n",
              "    }\n",
              "</style>\n",
              "<table border=\"1\" class=\"dataframe\">\n",
              "  <thead>\n",
              "    <tr style=\"text-align: right;\">\n",
              "      <th></th>\n",
              "      <th>conversation_id</th>\n",
              "      <th>messages</th>\n",
              "    </tr>\n",
              "  </thead>\n",
              "  <tbody>\n",
              "    <tr>\n",
              "      <th>0</th>\n",
              "      <td>1</td>\n",
              "      <td>[{'role': 'user', 'content': 'write quary to p...</td>\n",
              "    </tr>\n",
              "    <tr>\n",
              "      <th>1</th>\n",
              "      <td>2</td>\n",
              "      <td>[{'role': 'user', 'content': 'write sudent det...</td>\n",
              "    </tr>\n",
              "    <tr>\n",
              "      <th>2</th>\n",
              "      <td>3</td>\n",
              "      <td>[{'role': 'user', 'content': 'Write student de...</td>\n",
              "    </tr>\n",
              "    <tr>\n",
              "      <th>3</th>\n",
              "      <td>4</td>\n",
              "      <td>[{'role': 'user', 'content': 'write student de...</td>\n",
              "    </tr>\n",
              "    <tr>\n",
              "      <th>4</th>\n",
              "      <td>5</td>\n",
              "      <td>[{'role': 'user', 'content': 'show the student...</td>\n",
              "    </tr>\n",
              "  </tbody>\n",
              "</table>\n",
              "</div>\n",
              "    <div class=\"colab-df-buttons\">\n",
              "\n",
              "  <div class=\"colab-df-container\">\n",
              "    <button class=\"colab-df-convert\" onclick=\"convertToInteractive('df-f27fcec4-b8de-485d-9534-51b245aae63d')\"\n",
              "            title=\"Convert this dataframe to an interactive table.\"\n",
              "            style=\"display:none;\">\n",
              "\n",
              "  <svg xmlns=\"http://www.w3.org/2000/svg\" height=\"24px\" viewBox=\"0 -960 960 960\">\n",
              "    <path d=\"M120-120v-720h720v720H120Zm60-500h600v-160H180v160Zm220 220h160v-160H400v160Zm0 220h160v-160H400v160ZM180-400h160v-160H180v160Zm440 0h160v-160H620v160ZM180-180h160v-160H180v160Zm440 0h160v-160H620v160Z\"/>\n",
              "  </svg>\n",
              "    </button>\n",
              "\n",
              "  <style>\n",
              "    .colab-df-container {\n",
              "      display:flex;\n",
              "      gap: 12px;\n",
              "    }\n",
              "\n",
              "    .colab-df-convert {\n",
              "      background-color: #E8F0FE;\n",
              "      border: none;\n",
              "      border-radius: 50%;\n",
              "      cursor: pointer;\n",
              "      display: none;\n",
              "      fill: #1967D2;\n",
              "      height: 32px;\n",
              "      padding: 0 0 0 0;\n",
              "      width: 32px;\n",
              "    }\n",
              "\n",
              "    .colab-df-convert:hover {\n",
              "      background-color: #E2EBFA;\n",
              "      box-shadow: 0px 1px 2px rgba(60, 64, 67, 0.3), 0px 1px 3px 1px rgba(60, 64, 67, 0.15);\n",
              "      fill: #174EA6;\n",
              "    }\n",
              "\n",
              "    .colab-df-buttons div {\n",
              "      margin-bottom: 4px;\n",
              "    }\n",
              "\n",
              "    [theme=dark] .colab-df-convert {\n",
              "      background-color: #3B4455;\n",
              "      fill: #D2E3FC;\n",
              "    }\n",
              "\n",
              "    [theme=dark] .colab-df-convert:hover {\n",
              "      background-color: #434B5C;\n",
              "      box-shadow: 0px 1px 3px 1px rgba(0, 0, 0, 0.15);\n",
              "      filter: drop-shadow(0px 1px 2px rgba(0, 0, 0, 0.3));\n",
              "      fill: #FFFFFF;\n",
              "    }\n",
              "  </style>\n",
              "\n",
              "    <script>\n",
              "      const buttonEl =\n",
              "        document.querySelector('#df-f27fcec4-b8de-485d-9534-51b245aae63d button.colab-df-convert');\n",
              "      buttonEl.style.display =\n",
              "        google.colab.kernel.accessAllowed ? 'block' : 'none';\n",
              "\n",
              "      async function convertToInteractive(key) {\n",
              "        const element = document.querySelector('#df-f27fcec4-b8de-485d-9534-51b245aae63d');\n",
              "        const dataTable =\n",
              "          await google.colab.kernel.invokeFunction('convertToInteractive',\n",
              "                                                    [key], {});\n",
              "        if (!dataTable) return;\n",
              "\n",
              "        const docLinkHtml = 'Like what you see? Visit the ' +\n",
              "          '<a target=\"_blank\" href=https://colab.research.google.com/notebooks/data_table.ipynb>data table notebook</a>'\n",
              "          + ' to learn more about interactive tables.';\n",
              "        element.innerHTML = '';\n",
              "        dataTable['output_type'] = 'display_data';\n",
              "        await google.colab.output.renderOutput(dataTable, element);\n",
              "        const docLink = document.createElement('div');\n",
              "        docLink.innerHTML = docLinkHtml;\n",
              "        element.appendChild(docLink);\n",
              "      }\n",
              "    </script>\n",
              "  </div>\n",
              "\n",
              "\n",
              "<div id=\"df-72976fe6-0760-4de7-8ca8-e403c5a37268\">\n",
              "  <button class=\"colab-df-quickchart\" onclick=\"quickchart('df-72976fe6-0760-4de7-8ca8-e403c5a37268')\"\n",
              "            title=\"Suggest charts\"\n",
              "            style=\"display:none;\">\n",
              "\n",
              "<svg xmlns=\"http://www.w3.org/2000/svg\" height=\"24px\"viewBox=\"0 0 24 24\"\n",
              "     width=\"24px\">\n",
              "    <g>\n",
              "        <path d=\"M19 3H5c-1.1 0-2 .9-2 2v14c0 1.1.9 2 2 2h14c1.1 0 2-.9 2-2V5c0-1.1-.9-2-2-2zM9 17H7v-7h2v7zm4 0h-2V7h2v10zm4 0h-2v-4h2v4z\"/>\n",
              "    </g>\n",
              "</svg>\n",
              "  </button>\n",
              "\n",
              "<style>\n",
              "  .colab-df-quickchart {\n",
              "      --bg-color: #E8F0FE;\n",
              "      --fill-color: #1967D2;\n",
              "      --hover-bg-color: #E2EBFA;\n",
              "      --hover-fill-color: #174EA6;\n",
              "      --disabled-fill-color: #AAA;\n",
              "      --disabled-bg-color: #DDD;\n",
              "  }\n",
              "\n",
              "  [theme=dark] .colab-df-quickchart {\n",
              "      --bg-color: #3B4455;\n",
              "      --fill-color: #D2E3FC;\n",
              "      --hover-bg-color: #434B5C;\n",
              "      --hover-fill-color: #FFFFFF;\n",
              "      --disabled-bg-color: #3B4455;\n",
              "      --disabled-fill-color: #666;\n",
              "  }\n",
              "\n",
              "  .colab-df-quickchart {\n",
              "    background-color: var(--bg-color);\n",
              "    border: none;\n",
              "    border-radius: 50%;\n",
              "    cursor: pointer;\n",
              "    display: none;\n",
              "    fill: var(--fill-color);\n",
              "    height: 32px;\n",
              "    padding: 0;\n",
              "    width: 32px;\n",
              "  }\n",
              "\n",
              "  .colab-df-quickchart:hover {\n",
              "    background-color: var(--hover-bg-color);\n",
              "    box-shadow: 0 1px 2px rgba(60, 64, 67, 0.3), 0 1px 3px 1px rgba(60, 64, 67, 0.15);\n",
              "    fill: var(--button-hover-fill-color);\n",
              "  }\n",
              "\n",
              "  .colab-df-quickchart-complete:disabled,\n",
              "  .colab-df-quickchart-complete:disabled:hover {\n",
              "    background-color: var(--disabled-bg-color);\n",
              "    fill: var(--disabled-fill-color);\n",
              "    box-shadow: none;\n",
              "  }\n",
              "\n",
              "  .colab-df-spinner {\n",
              "    border: 2px solid var(--fill-color);\n",
              "    border-color: transparent;\n",
              "    border-bottom-color: var(--fill-color);\n",
              "    animation:\n",
              "      spin 1s steps(1) infinite;\n",
              "  }\n",
              "\n",
              "  @keyframes spin {\n",
              "    0% {\n",
              "      border-color: transparent;\n",
              "      border-bottom-color: var(--fill-color);\n",
              "      border-left-color: var(--fill-color);\n",
              "    }\n",
              "    20% {\n",
              "      border-color: transparent;\n",
              "      border-left-color: var(--fill-color);\n",
              "      border-top-color: var(--fill-color);\n",
              "    }\n",
              "    30% {\n",
              "      border-color: transparent;\n",
              "      border-left-color: var(--fill-color);\n",
              "      border-top-color: var(--fill-color);\n",
              "      border-right-color: var(--fill-color);\n",
              "    }\n",
              "    40% {\n",
              "      border-color: transparent;\n",
              "      border-right-color: var(--fill-color);\n",
              "      border-top-color: var(--fill-color);\n",
              "    }\n",
              "    60% {\n",
              "      border-color: transparent;\n",
              "      border-right-color: var(--fill-color);\n",
              "    }\n",
              "    80% {\n",
              "      border-color: transparent;\n",
              "      border-right-color: var(--fill-color);\n",
              "      border-bottom-color: var(--fill-color);\n",
              "    }\n",
              "    90% {\n",
              "      border-color: transparent;\n",
              "      border-bottom-color: var(--fill-color);\n",
              "    }\n",
              "  }\n",
              "</style>\n",
              "\n",
              "  <script>\n",
              "    async function quickchart(key) {\n",
              "      const quickchartButtonEl =\n",
              "        document.querySelector('#' + key + ' button');\n",
              "      quickchartButtonEl.disabled = true;  // To prevent multiple clicks.\n",
              "      quickchartButtonEl.classList.add('colab-df-spinner');\n",
              "      try {\n",
              "        const charts = await google.colab.kernel.invokeFunction(\n",
              "            'suggestCharts', [key], {});\n",
              "      } catch (error) {\n",
              "        console.error('Error during call to suggestCharts:', error);\n",
              "      }\n",
              "      quickchartButtonEl.classList.remove('colab-df-spinner');\n",
              "      quickchartButtonEl.classList.add('colab-df-quickchart-complete');\n",
              "    }\n",
              "    (() => {\n",
              "      let quickchartButtonEl =\n",
              "        document.querySelector('#df-72976fe6-0760-4de7-8ca8-e403c5a37268 button');\n",
              "      quickchartButtonEl.style.display =\n",
              "        google.colab.kernel.accessAllowed ? 'block' : 'none';\n",
              "    })();\n",
              "  </script>\n",
              "</div>\n",
              "\n",
              "    </div>\n",
              "  </div>\n"
            ],
            "application/vnd.google.colaboratory.intrinsic+json": {
              "type": "dataframe",
              "variable_name": "df",
              "summary": "{\n  \"name\": \"df\",\n  \"rows\": 75,\n  \"fields\": [\n    {\n      \"column\": \"conversation_id\",\n      \"properties\": {\n        \"dtype\": \"number\",\n        \"std\": 21,\n        \"min\": 1,\n        \"max\": 75,\n        \"num_unique_values\": 75,\n        \"samples\": [\n          5,\n          64,\n          11\n        ],\n        \"semantic_type\": \"\",\n        \"description\": \"\"\n      }\n    },\n    {\n      \"column\": \"messages\",\n      \"properties\": {\n        \"dtype\": \"object\",\n        \"semantic_type\": \"\",\n        \"description\": \"\"\n      }\n    }\n  ]\n}"
            }
          },
          "metadata": {},
          "execution_count": 86
        }
      ]
    },
    {
      "cell_type": "code",
      "source": [
        "df_train=df.sample(frac=0.9,random_state=42)\n",
        "df_test=df.drop(df_train.index)"
      ],
      "metadata": {
        "id": "nxDXeXI-YIon"
      },
      "execution_count": null,
      "outputs": []
    },
    {
      "cell_type": "code",
      "source": [],
      "metadata": {
        "id": "a8iUZ6tbVRDb"
      },
      "execution_count": null,
      "outputs": []
    },
    {
      "cell_type": "code",
      "source": [
        "print(df_train.shape)\n",
        "print(df_test.shape)"
      ],
      "metadata": {
        "colab": {
          "base_uri": "https://localhost:8080/",
          "height": 49
        },
        "id": "-JBxtjqQVTDs",
        "outputId": "857768b4-aa43-4edd-b8df-069ec093ed83"
      },
      "execution_count": null,
      "outputs": [
        {
          "output_type": "display_data",
          "data": {
            "text/plain": [
              "\u001b[1m(\u001b[0m\u001b[1;36m68\u001b[0m, \u001b[1;36m2\u001b[0m\u001b[1m)\u001b[0m\n"
            ],
            "text/html": [
              "<pre style=\"white-space:pre;overflow-x:auto;line-height:normal;font-family:Menlo,'DejaVu Sans Mono',consolas,'Courier New',monospace\"><span style=\"font-weight: bold\">(</span><span style=\"color: #008080; text-decoration-color: #008080; font-weight: bold\">68</span>, <span style=\"color: #008080; text-decoration-color: #008080; font-weight: bold\">2</span><span style=\"font-weight: bold\">)</span>\n",
              "</pre>\n"
            ]
          },
          "metadata": {}
        },
        {
          "output_type": "display_data",
          "data": {
            "text/plain": [
              "\u001b[1m(\u001b[0m\u001b[1;36m7\u001b[0m, \u001b[1;36m2\u001b[0m\u001b[1m)\u001b[0m\n"
            ],
            "text/html": [
              "<pre style=\"white-space:pre;overflow-x:auto;line-height:normal;font-family:Menlo,'DejaVu Sans Mono',consolas,'Courier New',monospace\"><span style=\"font-weight: bold\">(</span><span style=\"color: #008080; text-decoration-color: #008080; font-weight: bold\">7</span>, <span style=\"color: #008080; text-decoration-color: #008080; font-weight: bold\">2</span><span style=\"font-weight: bold\">)</span>\n",
              "</pre>\n"
            ]
          },
          "metadata": {}
        }
      ]
    },
    {
      "cell_type": "code",
      "source": [
        "print(df_train.iloc[50]['messages'])"
      ],
      "metadata": {
        "colab": {
          "base_uri": "https://localhost:8080/",
          "height": 209
        },
        "id": "mHXomutnWOUs",
        "outputId": "7d06817b-34a0-40f9-de8b-b087444c3d60"
      },
      "execution_count": null,
      "outputs": [
        {
          "output_type": "display_data",
          "data": {
            "text/plain": [
              "\u001b[1m[\u001b[0m\n",
              "    \u001b[1m{\u001b[0m\n",
              "        \u001b[32m'role'\u001b[0m: \u001b[32m'user'\u001b[0m,\n",
              "        \u001b[32m'content'\u001b[0m: \u001b[32m\"Get the list of students along with their enrollment date for the course 'Advanced Grammar and \u001b[0m\n",
              "\u001b[32mComposition'.\"\u001b[0m\n",
              "    \u001b[1m}\u001b[0m,\n",
              "    \u001b[1m{\u001b[0m\n",
              "        \u001b[32m'role'\u001b[0m: \u001b[32m'assistant'\u001b[0m,\n",
              "        \u001b[32m'content'\u001b[0m: \u001b[32m\"SELECT S.Name, E.EnrollmentDate FROM Student S JOIN Enrollment E ON S.StudentID = E.StudentID \u001b[0m\n",
              "\u001b[32mJOIN Course C ON E.CourseID = C.CourseID WHERE C.CourseName = 'Advanced Grammar and Composition';\"\u001b[0m\n",
              "    \u001b[1m}\u001b[0m\n",
              "\u001b[1m]\u001b[0m\n"
            ],
            "text/html": [
              "<pre style=\"white-space:pre;overflow-x:auto;line-height:normal;font-family:Menlo,'DejaVu Sans Mono',consolas,'Courier New',monospace\"><span style=\"font-weight: bold\">[</span>\n",
              "    <span style=\"font-weight: bold\">{</span>\n",
              "        <span style=\"color: #008000; text-decoration-color: #008000\">'role'</span>: <span style=\"color: #008000; text-decoration-color: #008000\">'user'</span>,\n",
              "        <span style=\"color: #008000; text-decoration-color: #008000\">'content'</span>: <span style=\"color: #008000; text-decoration-color: #008000\">\"Get the list of students along with their enrollment date for the course 'Advanced Grammar and </span>\n",
              "<span style=\"color: #008000; text-decoration-color: #008000\">Composition'.\"</span>\n",
              "    <span style=\"font-weight: bold\">}</span>,\n",
              "    <span style=\"font-weight: bold\">{</span>\n",
              "        <span style=\"color: #008000; text-decoration-color: #008000\">'role'</span>: <span style=\"color: #008000; text-decoration-color: #008000\">'assistant'</span>,\n",
              "        <span style=\"color: #008000; text-decoration-color: #008000\">'content'</span>: <span style=\"color: #008000; text-decoration-color: #008000\">\"SELECT S.Name, E.EnrollmentDate FROM Student S JOIN Enrollment E ON S.StudentID = E.StudentID </span>\n",
              "<span style=\"color: #008000; text-decoration-color: #008000\">JOIN Course C ON E.CourseID = C.CourseID WHERE C.CourseName = 'Advanced Grammar and Composition';\"</span>\n",
              "    <span style=\"font-weight: bold\">}</span>\n",
              "<span style=\"font-weight: bold\">]</span>\n",
              "</pre>\n"
            ]
          },
          "metadata": {}
        }
      ]
    },
    {
      "cell_type": "code",
      "source": [
        "print(dir(client.files))\n"
      ],
      "metadata": {
        "colab": {
          "base_uri": "https://localhost:8080/",
          "height": 753
        },
        "id": "H-unlkXyFoht",
        "outputId": "b339fe33-a258-4aea-9d69-9afd48e52d6c"
      },
      "execution_count": null,
      "outputs": [
        {
          "output_type": "display_data",
          "data": {
            "text/plain": [
              "\u001b[1m[\u001b[0m\n",
              "    \u001b[32m'__annotations__'\u001b[0m,\n",
              "    \u001b[32m'__class__'\u001b[0m,\n",
              "    \u001b[32m'__delattr__'\u001b[0m,\n",
              "    \u001b[32m'__dict__'\u001b[0m,\n",
              "    \u001b[32m'__dir__'\u001b[0m,\n",
              "    \u001b[32m'__doc__'\u001b[0m,\n",
              "    \u001b[32m'__eq__'\u001b[0m,\n",
              "    \u001b[32m'__format__'\u001b[0m,\n",
              "    \u001b[32m'__ge__'\u001b[0m,\n",
              "    \u001b[32m'__getattribute__'\u001b[0m,\n",
              "    \u001b[32m'__gt__'\u001b[0m,\n",
              "    \u001b[32m'__hash__'\u001b[0m,\n",
              "    \u001b[32m'__init__'\u001b[0m,\n",
              "    \u001b[32m'__init_subclass__'\u001b[0m,\n",
              "    \u001b[32m'__le__'\u001b[0m,\n",
              "    \u001b[32m'__lt__'\u001b[0m,\n",
              "    \u001b[32m'__module__'\u001b[0m,\n",
              "    \u001b[32m'__ne__'\u001b[0m,\n",
              "    \u001b[32m'__new__'\u001b[0m,\n",
              "    \u001b[32m'__reduce__'\u001b[0m,\n",
              "    \u001b[32m'__reduce_ex__'\u001b[0m,\n",
              "    \u001b[32m'__repr__'\u001b[0m,\n",
              "    \u001b[32m'__setattr__'\u001b[0m,\n",
              "    \u001b[32m'__sizeof__'\u001b[0m,\n",
              "    \u001b[32m'__str__'\u001b[0m,\n",
              "    \u001b[32m'__subclasshook__'\u001b[0m,\n",
              "    \u001b[32m'__weakref__'\u001b[0m,\n",
              "    \u001b[32m'build_request'\u001b[0m,\n",
              "    \u001b[32m'build_request_async'\u001b[0m,\n",
              "    \u001b[32m'build_request_with_client'\u001b[0m,\n",
              "    \u001b[32m'delete'\u001b[0m,\n",
              "    \u001b[32m'delete_async'\u001b[0m,\n",
              "    \u001b[32m'do_request'\u001b[0m,\n",
              "    \u001b[32m'do_request_async'\u001b[0m,\n",
              "    \u001b[32m'download'\u001b[0m,\n",
              "    \u001b[32m'download_async'\u001b[0m,\n",
              "    \u001b[32m'get_url'\u001b[0m,\n",
              "    \u001b[32m'list'\u001b[0m,\n",
              "    \u001b[32m'list_async'\u001b[0m,\n",
              "    \u001b[32m'retrieve'\u001b[0m,\n",
              "    \u001b[32m'retrieve_async'\u001b[0m,\n",
              "    \u001b[32m'sdk_configuration'\u001b[0m,\n",
              "    \u001b[32m'upload'\u001b[0m,\n",
              "    \u001b[32m'upload_async'\u001b[0m\n",
              "\u001b[1m]\u001b[0m\n"
            ],
            "text/html": [
              "<pre style=\"white-space:pre;overflow-x:auto;line-height:normal;font-family:Menlo,'DejaVu Sans Mono',consolas,'Courier New',monospace\"><span style=\"font-weight: bold\">[</span>\n",
              "    <span style=\"color: #008000; text-decoration-color: #008000\">'__annotations__'</span>,\n",
              "    <span style=\"color: #008000; text-decoration-color: #008000\">'__class__'</span>,\n",
              "    <span style=\"color: #008000; text-decoration-color: #008000\">'__delattr__'</span>,\n",
              "    <span style=\"color: #008000; text-decoration-color: #008000\">'__dict__'</span>,\n",
              "    <span style=\"color: #008000; text-decoration-color: #008000\">'__dir__'</span>,\n",
              "    <span style=\"color: #008000; text-decoration-color: #008000\">'__doc__'</span>,\n",
              "    <span style=\"color: #008000; text-decoration-color: #008000\">'__eq__'</span>,\n",
              "    <span style=\"color: #008000; text-decoration-color: #008000\">'__format__'</span>,\n",
              "    <span style=\"color: #008000; text-decoration-color: #008000\">'__ge__'</span>,\n",
              "    <span style=\"color: #008000; text-decoration-color: #008000\">'__getattribute__'</span>,\n",
              "    <span style=\"color: #008000; text-decoration-color: #008000\">'__gt__'</span>,\n",
              "    <span style=\"color: #008000; text-decoration-color: #008000\">'__hash__'</span>,\n",
              "    <span style=\"color: #008000; text-decoration-color: #008000\">'__init__'</span>,\n",
              "    <span style=\"color: #008000; text-decoration-color: #008000\">'__init_subclass__'</span>,\n",
              "    <span style=\"color: #008000; text-decoration-color: #008000\">'__le__'</span>,\n",
              "    <span style=\"color: #008000; text-decoration-color: #008000\">'__lt__'</span>,\n",
              "    <span style=\"color: #008000; text-decoration-color: #008000\">'__module__'</span>,\n",
              "    <span style=\"color: #008000; text-decoration-color: #008000\">'__ne__'</span>,\n",
              "    <span style=\"color: #008000; text-decoration-color: #008000\">'__new__'</span>,\n",
              "    <span style=\"color: #008000; text-decoration-color: #008000\">'__reduce__'</span>,\n",
              "    <span style=\"color: #008000; text-decoration-color: #008000\">'__reduce_ex__'</span>,\n",
              "    <span style=\"color: #008000; text-decoration-color: #008000\">'__repr__'</span>,\n",
              "    <span style=\"color: #008000; text-decoration-color: #008000\">'__setattr__'</span>,\n",
              "    <span style=\"color: #008000; text-decoration-color: #008000\">'__sizeof__'</span>,\n",
              "    <span style=\"color: #008000; text-decoration-color: #008000\">'__str__'</span>,\n",
              "    <span style=\"color: #008000; text-decoration-color: #008000\">'__subclasshook__'</span>,\n",
              "    <span style=\"color: #008000; text-decoration-color: #008000\">'__weakref__'</span>,\n",
              "    <span style=\"color: #008000; text-decoration-color: #008000\">'build_request'</span>,\n",
              "    <span style=\"color: #008000; text-decoration-color: #008000\">'build_request_async'</span>,\n",
              "    <span style=\"color: #008000; text-decoration-color: #008000\">'build_request_with_client'</span>,\n",
              "    <span style=\"color: #008000; text-decoration-color: #008000\">'delete'</span>,\n",
              "    <span style=\"color: #008000; text-decoration-color: #008000\">'delete_async'</span>,\n",
              "    <span style=\"color: #008000; text-decoration-color: #008000\">'do_request'</span>,\n",
              "    <span style=\"color: #008000; text-decoration-color: #008000\">'do_request_async'</span>,\n",
              "    <span style=\"color: #008000; text-decoration-color: #008000\">'download'</span>,\n",
              "    <span style=\"color: #008000; text-decoration-color: #008000\">'download_async'</span>,\n",
              "    <span style=\"color: #008000; text-decoration-color: #008000\">'get_url'</span>,\n",
              "    <span style=\"color: #008000; text-decoration-color: #008000\">'list'</span>,\n",
              "    <span style=\"color: #008000; text-decoration-color: #008000\">'list_async'</span>,\n",
              "    <span style=\"color: #008000; text-decoration-color: #008000\">'retrieve'</span>,\n",
              "    <span style=\"color: #008000; text-decoration-color: #008000\">'retrieve_async'</span>,\n",
              "    <span style=\"color: #008000; text-decoration-color: #008000\">'sdk_configuration'</span>,\n",
              "    <span style=\"color: #008000; text-decoration-color: #008000\">'upload'</span>,\n",
              "    <span style=\"color: #008000; text-decoration-color: #008000\">'upload_async'</span>\n",
              "<span style=\"font-weight: bold\">]</span>\n",
              "</pre>\n"
            ]
          },
          "metadata": {}
        }
      ]
    },
    {
      "cell_type": "code",
      "source": [
        "with open('/content/drive/MyDrive/PROJECTS/student_database_chatbot/train.jsonl', 'r') as file:\n",
        "    raw_data = file.read()\n",
        "print(raw_data)"
      ],
      "metadata": {
        "id": "LD2HeoR8tWzS"
      },
      "execution_count": null,
      "outputs": []
    },
    {
      "cell_type": "code",
      "source": [
        "\n",
        "def pprint(obj):\n",
        "  print(json.dumps(obj.dict(), indent=4))"
      ],
      "metadata": {
        "id": "isu3j-Kkj7fn"
      },
      "execution_count": 15,
      "outputs": []
    },
    {
      "cell_type": "code",
      "source": [
        "\n",
        "\n",
        "train_data = client.files.upload(file={\n",
        "        \"file_name\": \"/content/drive/MyDrive/PROJECTS/student_database_chatbot/train.jsonl\",\n",
        "        \"content\": open(\"/content/drive/MyDrive/PROJECTS/student_database_chatbot/train.jsonl\", \"rb\"),\n",
        "    })\n",
        "\n",
        "#pprint(train_data)\n",
        "\n"
      ],
      "metadata": {
        "id": "oXmiKZicddC9"
      },
      "execution_count": 12,
      "outputs": []
    },
    {
      "cell_type": "code",
      "source": [
        "test_data = client.files.upload(file={\n",
        "        \"file_name\": \"/content/drive/MyDrive/PROJECTS/student_database_chatbot/test.jsonl\",\n",
        "               \"content\": open(\"/content/drive/MyDrive/PROJECTS/student_database_chatbot/test.jsonl\", \"rb\"),\n",
        "    })"
      ],
      "metadata": {
        "id": "KVinHlJrg3XU"
      },
      "execution_count": 13,
      "outputs": []
    },
    {
      "cell_type": "code",
      "source": [
        "pprint(train_data)"
      ],
      "metadata": {
        "colab": {
          "base_uri": "https://localhost:8080/",
          "height": 193
        },
        "id": "U48l2AXOlL7I",
        "outputId": "b8d60ca2-4e83-428a-db49-3571d0b8ece8"
      },
      "execution_count": 17,
      "outputs": [
        {
          "output_type": "display_data",
          "data": {
            "text/plain": [
              "\u001b[1m{\u001b[0m\n",
              "    \u001b[32m\"id\"\u001b[0m: \u001b[32m\"e4023600-f5cb-4a7e-977b-46445c419ead\"\u001b[0m,\n",
              "    \u001b[32m\"object\"\u001b[0m: \u001b[32m\"file\"\u001b[0m,\n",
              "    \u001b[32m\"bytes\"\u001b[0m: \u001b[1;36m22296\u001b[0m,\n",
              "    \u001b[32m\"created_at\"\u001b[0m: \u001b[1;36m1732874633\u001b[0m,\n",
              "    \u001b[32m\"filename\"\u001b[0m: \u001b[32m\"train.jsonl\"\u001b[0m,\n",
              "    \u001b[32m\"purpose\"\u001b[0m: \u001b[32m\"fine-tune\"\u001b[0m,\n",
              "    \u001b[32m\"sample_type\"\u001b[0m: \u001b[32m\"instruct\"\u001b[0m,\n",
              "    \u001b[32m\"source\"\u001b[0m: \u001b[32m\"upload\"\u001b[0m,\n",
              "    \u001b[32m\"num_lines\"\u001b[0m: \u001b[1;36m67\u001b[0m\n",
              "\u001b[1m}\u001b[0m\n"
            ],
            "text/html": [
              "<pre style=\"white-space:pre;overflow-x:auto;line-height:normal;font-family:Menlo,'DejaVu Sans Mono',consolas,'Courier New',monospace\"><span style=\"font-weight: bold\">{</span>\n",
              "    <span style=\"color: #008000; text-decoration-color: #008000\">\"id\"</span>: <span style=\"color: #008000; text-decoration-color: #008000\">\"e4023600-f5cb-4a7e-977b-46445c419ead\"</span>,\n",
              "    <span style=\"color: #008000; text-decoration-color: #008000\">\"object\"</span>: <span style=\"color: #008000; text-decoration-color: #008000\">\"file\"</span>,\n",
              "    <span style=\"color: #008000; text-decoration-color: #008000\">\"bytes\"</span>: <span style=\"color: #008080; text-decoration-color: #008080; font-weight: bold\">22296</span>,\n",
              "    <span style=\"color: #008000; text-decoration-color: #008000\">\"created_at\"</span>: <span style=\"color: #008080; text-decoration-color: #008080; font-weight: bold\">1732874633</span>,\n",
              "    <span style=\"color: #008000; text-decoration-color: #008000\">\"filename\"</span>: <span style=\"color: #008000; text-decoration-color: #008000\">\"train.jsonl\"</span>,\n",
              "    <span style=\"color: #008000; text-decoration-color: #008000\">\"purpose\"</span>: <span style=\"color: #008000; text-decoration-color: #008000\">\"fine-tune\"</span>,\n",
              "    <span style=\"color: #008000; text-decoration-color: #008000\">\"sample_type\"</span>: <span style=\"color: #008000; text-decoration-color: #008000\">\"instruct\"</span>,\n",
              "    <span style=\"color: #008000; text-decoration-color: #008000\">\"source\"</span>: <span style=\"color: #008000; text-decoration-color: #008000\">\"upload\"</span>,\n",
              "    <span style=\"color: #008000; text-decoration-color: #008000\">\"num_lines\"</span>: <span style=\"color: #008080; text-decoration-color: #008080; font-weight: bold\">67</span>\n",
              "<span style=\"font-weight: bold\">}</span>\n",
              "</pre>\n"
            ]
          },
          "metadata": {}
        }
      ]
    },
    {
      "cell_type": "code",
      "source": [
        "\n",
        "  pprint(test_data)"
      ],
      "metadata": {
        "colab": {
          "base_uri": "https://localhost:8080/",
          "height": 193
        },
        "id": "5A35Q59djyBB",
        "outputId": "8746377c-a630-42e8-9294-bb18f4ccd7e2"
      },
      "execution_count": 16,
      "outputs": [
        {
          "output_type": "display_data",
          "data": {
            "text/plain": [
              "\u001b[1m{\u001b[0m\n",
              "    \u001b[32m\"id\"\u001b[0m: \u001b[32m\"d16ceb29-23de-4d41-91c4-d4fe880b3ee6\"\u001b[0m,\n",
              "    \u001b[32m\"object\"\u001b[0m: \u001b[32m\"file\"\u001b[0m,\n",
              "    \u001b[32m\"bytes\"\u001b[0m: \u001b[1;36m2068\u001b[0m,\n",
              "    \u001b[32m\"created_at\"\u001b[0m: \u001b[1;36m1732874659\u001b[0m,\n",
              "    \u001b[32m\"filename\"\u001b[0m: \u001b[32m\"test.jsonl\"\u001b[0m,\n",
              "    \u001b[32m\"purpose\"\u001b[0m: \u001b[32m\"fine-tune\"\u001b[0m,\n",
              "    \u001b[32m\"sample_type\"\u001b[0m: \u001b[32m\"instruct\"\u001b[0m,\n",
              "    \u001b[32m\"source\"\u001b[0m: \u001b[32m\"upload\"\u001b[0m,\n",
              "    \u001b[32m\"num_lines\"\u001b[0m: \u001b[1;36m7\u001b[0m\n",
              "\u001b[1m}\u001b[0m\n"
            ],
            "text/html": [
              "<pre style=\"white-space:pre;overflow-x:auto;line-height:normal;font-family:Menlo,'DejaVu Sans Mono',consolas,'Courier New',monospace\"><span style=\"font-weight: bold\">{</span>\n",
              "    <span style=\"color: #008000; text-decoration-color: #008000\">\"id\"</span>: <span style=\"color: #008000; text-decoration-color: #008000\">\"d16ceb29-23de-4d41-91c4-d4fe880b3ee6\"</span>,\n",
              "    <span style=\"color: #008000; text-decoration-color: #008000\">\"object\"</span>: <span style=\"color: #008000; text-decoration-color: #008000\">\"file\"</span>,\n",
              "    <span style=\"color: #008000; text-decoration-color: #008000\">\"bytes\"</span>: <span style=\"color: #008080; text-decoration-color: #008080; font-weight: bold\">2068</span>,\n",
              "    <span style=\"color: #008000; text-decoration-color: #008000\">\"created_at\"</span>: <span style=\"color: #008080; text-decoration-color: #008080; font-weight: bold\">1732874659</span>,\n",
              "    <span style=\"color: #008000; text-decoration-color: #008000\">\"filename\"</span>: <span style=\"color: #008000; text-decoration-color: #008000\">\"test.jsonl\"</span>,\n",
              "    <span style=\"color: #008000; text-decoration-color: #008000\">\"purpose\"</span>: <span style=\"color: #008000; text-decoration-color: #008000\">\"fine-tune\"</span>,\n",
              "    <span style=\"color: #008000; text-decoration-color: #008000\">\"sample_type\"</span>: <span style=\"color: #008000; text-decoration-color: #008000\">\"instruct\"</span>,\n",
              "    <span style=\"color: #008000; text-decoration-color: #008000\">\"source\"</span>: <span style=\"color: #008000; text-decoration-color: #008000\">\"upload\"</span>,\n",
              "    <span style=\"color: #008000; text-decoration-color: #008000\">\"num_lines\"</span>: <span style=\"color: #008080; text-decoration-color: #008080; font-weight: bold\">7</span>\n",
              "<span style=\"font-weight: bold\">}</span>\n",
              "</pre>\n"
            ]
          },
          "metadata": {}
        }
      ]
    },
    {
      "cell_type": "code",
      "source": [
        "\n",
        "help(client.files.upload)\n"
      ],
      "metadata": {
        "id": "KLR7nYp2Wg0A"
      },
      "execution_count": null,
      "outputs": []
    },
    {
      "cell_type": "code",
      "source": [
        "files = client.files.list()\n",
        "\n",
        "\n",
        "print(files)\n"
      ],
      "metadata": {
        "id": "05H5B1aseBE6",
        "colab": {
          "base_uri": "https://localhost:8080/",
          "height": 817
        },
        "outputId": "a6238e13-1254-4fc5-862c-e5379c5746ef"
      },
      "execution_count": 18,
      "outputs": [
        {
          "output_type": "display_data",
          "data": {
            "text/plain": [
              "\u001b[1;35mListFilesOut\u001b[0m\u001b[1m(\u001b[0m\n",
              "    \u001b[33mdata\u001b[0m=\u001b[1m[\u001b[0m\n",
              "        \u001b[1;35mFileSchema\u001b[0m\u001b[1m(\u001b[0m\n",
              "            \u001b[33mid\u001b[0m=\u001b[32m'd16ceb29-23de-4d41-91c4-d4fe880b3ee6'\u001b[0m,\n",
              "            \u001b[33mobject\u001b[0m=\u001b[32m'file'\u001b[0m,\n",
              "            \u001b[33mbytes\u001b[0m=\u001b[1;36m2068\u001b[0m,\n",
              "            \u001b[33mcreated_at\u001b[0m=\u001b[1;36m1732874659\u001b[0m,\n",
              "            \u001b[33mfilename\u001b[0m=\u001b[32m'test.jsonl'\u001b[0m,\n",
              "            \u001b[33mpurpose\u001b[0m=\u001b[32m'fine-tune'\u001b[0m,\n",
              "            \u001b[33msample_type\u001b[0m=\u001b[32m'instruct'\u001b[0m,\n",
              "            \u001b[33msource\u001b[0m=\u001b[32m'upload'\u001b[0m,\n",
              "            \u001b[33mnum_lines\u001b[0m=\u001b[1;36m7\u001b[0m\n",
              "        \u001b[1m)\u001b[0m,\n",
              "        \u001b[1;35mFileSchema\u001b[0m\u001b[1m(\u001b[0m\n",
              "            \u001b[33mid\u001b[0m=\u001b[32m'e4023600-f5cb-4a7e-977b-46445c419ead'\u001b[0m,\n",
              "            \u001b[33mobject\u001b[0m=\u001b[32m'file'\u001b[0m,\n",
              "            \u001b[33mbytes\u001b[0m=\u001b[1;36m22296\u001b[0m,\n",
              "            \u001b[33mcreated_at\u001b[0m=\u001b[1;36m1732874633\u001b[0m,\n",
              "            \u001b[33mfilename\u001b[0m=\u001b[32m'train.jsonl'\u001b[0m,\n",
              "            \u001b[33mpurpose\u001b[0m=\u001b[32m'fine-tune'\u001b[0m,\n",
              "            \u001b[33msample_type\u001b[0m=\u001b[32m'instruct'\u001b[0m,\n",
              "            \u001b[33msource\u001b[0m=\u001b[32m'upload'\u001b[0m,\n",
              "            \u001b[33mnum_lines\u001b[0m=\u001b[1;36m67\u001b[0m\n",
              "        \u001b[1m)\u001b[0m,\n",
              "        \u001b[1;35mFileSchema\u001b[0m\u001b[1m(\u001b[0m\n",
              "            \u001b[33mid\u001b[0m=\u001b[32m'877ca0fd-b86b-4b39-9e20-ef6760400d11'\u001b[0m,\n",
              "            \u001b[33mobject\u001b[0m=\u001b[32m'file'\u001b[0m,\n",
              "            \u001b[33mbytes\u001b[0m=\u001b[1;36m2068\u001b[0m,\n",
              "            \u001b[33mcreated_at\u001b[0m=\u001b[1;36m1732860735\u001b[0m,\n",
              "            \u001b[33mfilename\u001b[0m=\u001b[32m'test.jsonl'\u001b[0m,\n",
              "            \u001b[33mpurpose\u001b[0m=\u001b[32m'fine-tune'\u001b[0m,\n",
              "            \u001b[33msample_type\u001b[0m=\u001b[32m'instruct'\u001b[0m,\n",
              "            \u001b[33msource\u001b[0m=\u001b[32m'upload'\u001b[0m,\n",
              "            \u001b[33mnum_lines\u001b[0m=\u001b[1;36m7\u001b[0m\n",
              "        \u001b[1m)\u001b[0m,\n",
              "        \u001b[1;35mFileSchema\u001b[0m\u001b[1m(\u001b[0m\n",
              "            \u001b[33mid\u001b[0m=\u001b[32m'ca210a40-76bc-464f-80f0-1a36ee7f4657'\u001b[0m,\n",
              "            \u001b[33mobject\u001b[0m=\u001b[32m'file'\u001b[0m,\n",
              "            \u001b[33mbytes\u001b[0m=\u001b[1;36m22296\u001b[0m,\n",
              "            \u001b[33mcreated_at\u001b[0m=\u001b[1;36m1732857987\u001b[0m,\n",
              "            \u001b[33mfilename\u001b[0m=\u001b[32m'train.jsonl'\u001b[0m,\n",
              "            \u001b[33mpurpose\u001b[0m=\u001b[32m'fine-tune'\u001b[0m,\n",
              "            \u001b[33msample_type\u001b[0m=\u001b[32m'instruct'\u001b[0m,\n",
              "            \u001b[33msource\u001b[0m=\u001b[32m'upload'\u001b[0m,\n",
              "            \u001b[33mnum_lines\u001b[0m=\u001b[1;36m67\u001b[0m\n",
              "        \u001b[1m)\u001b[0m\n",
              "    \u001b[1m]\u001b[0m,\n",
              "    \u001b[33mobject\u001b[0m=\u001b[32m'list'\u001b[0m,\n",
              "    \u001b[33mtotal\u001b[0m=\u001b[1;36m4\u001b[0m\n",
              "\u001b[1m)\u001b[0m\n"
            ],
            "text/html": [
              "<pre style=\"white-space:pre;overflow-x:auto;line-height:normal;font-family:Menlo,'DejaVu Sans Mono',consolas,'Courier New',monospace\"><span style=\"color: #800080; text-decoration-color: #800080; font-weight: bold\">ListFilesOut</span><span style=\"font-weight: bold\">(</span>\n",
              "    <span style=\"color: #808000; text-decoration-color: #808000\">data</span>=<span style=\"font-weight: bold\">[</span>\n",
              "        <span style=\"color: #800080; text-decoration-color: #800080; font-weight: bold\">FileSchema</span><span style=\"font-weight: bold\">(</span>\n",
              "            <span style=\"color: #808000; text-decoration-color: #808000\">id</span>=<span style=\"color: #008000; text-decoration-color: #008000\">'d16ceb29-23de-4d41-91c4-d4fe880b3ee6'</span>,\n",
              "            <span style=\"color: #808000; text-decoration-color: #808000\">object</span>=<span style=\"color: #008000; text-decoration-color: #008000\">'file'</span>,\n",
              "            <span style=\"color: #808000; text-decoration-color: #808000\">bytes</span>=<span style=\"color: #008080; text-decoration-color: #008080; font-weight: bold\">2068</span>,\n",
              "            <span style=\"color: #808000; text-decoration-color: #808000\">created_at</span>=<span style=\"color: #008080; text-decoration-color: #008080; font-weight: bold\">1732874659</span>,\n",
              "            <span style=\"color: #808000; text-decoration-color: #808000\">filename</span>=<span style=\"color: #008000; text-decoration-color: #008000\">'test.jsonl'</span>,\n",
              "            <span style=\"color: #808000; text-decoration-color: #808000\">purpose</span>=<span style=\"color: #008000; text-decoration-color: #008000\">'fine-tune'</span>,\n",
              "            <span style=\"color: #808000; text-decoration-color: #808000\">sample_type</span>=<span style=\"color: #008000; text-decoration-color: #008000\">'instruct'</span>,\n",
              "            <span style=\"color: #808000; text-decoration-color: #808000\">source</span>=<span style=\"color: #008000; text-decoration-color: #008000\">'upload'</span>,\n",
              "            <span style=\"color: #808000; text-decoration-color: #808000\">num_lines</span>=<span style=\"color: #008080; text-decoration-color: #008080; font-weight: bold\">7</span>\n",
              "        <span style=\"font-weight: bold\">)</span>,\n",
              "        <span style=\"color: #800080; text-decoration-color: #800080; font-weight: bold\">FileSchema</span><span style=\"font-weight: bold\">(</span>\n",
              "            <span style=\"color: #808000; text-decoration-color: #808000\">id</span>=<span style=\"color: #008000; text-decoration-color: #008000\">'e4023600-f5cb-4a7e-977b-46445c419ead'</span>,\n",
              "            <span style=\"color: #808000; text-decoration-color: #808000\">object</span>=<span style=\"color: #008000; text-decoration-color: #008000\">'file'</span>,\n",
              "            <span style=\"color: #808000; text-decoration-color: #808000\">bytes</span>=<span style=\"color: #008080; text-decoration-color: #008080; font-weight: bold\">22296</span>,\n",
              "            <span style=\"color: #808000; text-decoration-color: #808000\">created_at</span>=<span style=\"color: #008080; text-decoration-color: #008080; font-weight: bold\">1732874633</span>,\n",
              "            <span style=\"color: #808000; text-decoration-color: #808000\">filename</span>=<span style=\"color: #008000; text-decoration-color: #008000\">'train.jsonl'</span>,\n",
              "            <span style=\"color: #808000; text-decoration-color: #808000\">purpose</span>=<span style=\"color: #008000; text-decoration-color: #008000\">'fine-tune'</span>,\n",
              "            <span style=\"color: #808000; text-decoration-color: #808000\">sample_type</span>=<span style=\"color: #008000; text-decoration-color: #008000\">'instruct'</span>,\n",
              "            <span style=\"color: #808000; text-decoration-color: #808000\">source</span>=<span style=\"color: #008000; text-decoration-color: #008000\">'upload'</span>,\n",
              "            <span style=\"color: #808000; text-decoration-color: #808000\">num_lines</span>=<span style=\"color: #008080; text-decoration-color: #008080; font-weight: bold\">67</span>\n",
              "        <span style=\"font-weight: bold\">)</span>,\n",
              "        <span style=\"color: #800080; text-decoration-color: #800080; font-weight: bold\">FileSchema</span><span style=\"font-weight: bold\">(</span>\n",
              "            <span style=\"color: #808000; text-decoration-color: #808000\">id</span>=<span style=\"color: #008000; text-decoration-color: #008000\">'877ca0fd-b86b-4b39-9e20-ef6760400d11'</span>,\n",
              "            <span style=\"color: #808000; text-decoration-color: #808000\">object</span>=<span style=\"color: #008000; text-decoration-color: #008000\">'file'</span>,\n",
              "            <span style=\"color: #808000; text-decoration-color: #808000\">bytes</span>=<span style=\"color: #008080; text-decoration-color: #008080; font-weight: bold\">2068</span>,\n",
              "            <span style=\"color: #808000; text-decoration-color: #808000\">created_at</span>=<span style=\"color: #008080; text-decoration-color: #008080; font-weight: bold\">1732860735</span>,\n",
              "            <span style=\"color: #808000; text-decoration-color: #808000\">filename</span>=<span style=\"color: #008000; text-decoration-color: #008000\">'test.jsonl'</span>,\n",
              "            <span style=\"color: #808000; text-decoration-color: #808000\">purpose</span>=<span style=\"color: #008000; text-decoration-color: #008000\">'fine-tune'</span>,\n",
              "            <span style=\"color: #808000; text-decoration-color: #808000\">sample_type</span>=<span style=\"color: #008000; text-decoration-color: #008000\">'instruct'</span>,\n",
              "            <span style=\"color: #808000; text-decoration-color: #808000\">source</span>=<span style=\"color: #008000; text-decoration-color: #008000\">'upload'</span>,\n",
              "            <span style=\"color: #808000; text-decoration-color: #808000\">num_lines</span>=<span style=\"color: #008080; text-decoration-color: #008080; font-weight: bold\">7</span>\n",
              "        <span style=\"font-weight: bold\">)</span>,\n",
              "        <span style=\"color: #800080; text-decoration-color: #800080; font-weight: bold\">FileSchema</span><span style=\"font-weight: bold\">(</span>\n",
              "            <span style=\"color: #808000; text-decoration-color: #808000\">id</span>=<span style=\"color: #008000; text-decoration-color: #008000\">'ca210a40-76bc-464f-80f0-1a36ee7f4657'</span>,\n",
              "            <span style=\"color: #808000; text-decoration-color: #808000\">object</span>=<span style=\"color: #008000; text-decoration-color: #008000\">'file'</span>,\n",
              "            <span style=\"color: #808000; text-decoration-color: #808000\">bytes</span>=<span style=\"color: #008080; text-decoration-color: #008080; font-weight: bold\">22296</span>,\n",
              "            <span style=\"color: #808000; text-decoration-color: #808000\">created_at</span>=<span style=\"color: #008080; text-decoration-color: #008080; font-weight: bold\">1732857987</span>,\n",
              "            <span style=\"color: #808000; text-decoration-color: #808000\">filename</span>=<span style=\"color: #008000; text-decoration-color: #008000\">'train.jsonl'</span>,\n",
              "            <span style=\"color: #808000; text-decoration-color: #808000\">purpose</span>=<span style=\"color: #008000; text-decoration-color: #008000\">'fine-tune'</span>,\n",
              "            <span style=\"color: #808000; text-decoration-color: #808000\">sample_type</span>=<span style=\"color: #008000; text-decoration-color: #008000\">'instruct'</span>,\n",
              "            <span style=\"color: #808000; text-decoration-color: #808000\">source</span>=<span style=\"color: #008000; text-decoration-color: #008000\">'upload'</span>,\n",
              "            <span style=\"color: #808000; text-decoration-color: #808000\">num_lines</span>=<span style=\"color: #008080; text-decoration-color: #008080; font-weight: bold\">67</span>\n",
              "        <span style=\"font-weight: bold\">)</span>\n",
              "    <span style=\"font-weight: bold\">]</span>,\n",
              "    <span style=\"color: #808000; text-decoration-color: #808000\">object</span>=<span style=\"color: #008000; text-decoration-color: #008000\">'list'</span>,\n",
              "    <span style=\"color: #808000; text-decoration-color: #808000\">total</span>=<span style=\"color: #008080; text-decoration-color: #008080; font-weight: bold\">4</span>\n",
              "<span style=\"font-weight: bold\">)</span>\n",
              "</pre>\n"
            ]
          },
          "metadata": {}
        }
      ]
    },
    {
      "cell_type": "code",
      "source": [],
      "metadata": {
        "id": "YREOoKgsYZXI",
        "outputId": "2f7d19fe-e04b-49fa-bd68-efde5299eaf5",
        "colab": {
          "base_uri": "https://localhost:8080/"
        }
      },
      "execution_count": 20,
      "outputs": [
        {
          "output_type": "execute_result",
          "data": {
            "text/plain": [
              "DeleteFileOut(id='e4023600-f5cb-4a7e-977b-46445c419ead', object='file', deleted=True)"
            ]
          },
          "metadata": {},
          "execution_count": 20
        }
      ]
    },
    {
      "cell_type": "code",
      "source": [
        "from mistralai.models.jobs import TrainingParameters, WandbIntegrationIn"
      ],
      "metadata": {
        "id": "f4C9GVHQVzyr"
      },
      "execution_count": null,
      "outputs": []
    },
    {
      "cell_type": "code",
      "source": [
        "created_job=client.fine_tuning.jobs.create(model='codestral-latest',training_files=[train_data.id],validation_files=[test_data.id],hyperparameters={\"learning_rate\": 0.0001,\"training_steps\":10},integrations=[\"wandb\"])\n"
      ],
      "metadata": {
        "id": "mG2-zcIFutVn"
      },
      "execution_count": null,
      "outputs": []
    },
    {
      "cell_type": "code",
      "source": [],
      "metadata": {
        "id": "kNNKLRL7ofs7"
      },
      "execution_count": null,
      "outputs": []
    }
  ]
}